{
 "cells": [
  {
   "cell_type": "code",
   "execution_count": 1,
   "metadata": {},
   "outputs": [
    {
     "name": "stdout",
     "output_type": "stream",
     "text": [
      "Values are not equal\n"
     ]
    }
   ],
   "source": [
    "#assigned value\n",
    "a=10\n",
    "b=20\n",
    "if a==b:\n",
    "    print(\"Values are equal\")\n",
    "else:\n",
    "    print(\"Values are not equal\")"
   ]
  },
  {
   "cell_type": "code",
   "execution_count": 2,
   "metadata": {},
   "outputs": [
    {
     "name": "stdout",
     "output_type": "stream",
     "text": [
      "Enter value 1=10\n",
      "Enter value 2=10\n",
      "Values are equal..\n"
     ]
    }
   ],
   "source": [
    "#user input value\n",
    "a=int(input(\"Enter value 1=\"))\n",
    "b=int(input(\"Enter value 2=\"))\n",
    "if a==b:\n",
    "    print(\"Values are equal..\")\n",
    "else:\n",
    "    print(\"Values are not equal !!\")"
   ]
  },
  {
   "cell_type": "code",
   "execution_count": 4,
   "metadata": {},
   "outputs": [
    {
     "name": "stdout",
     "output_type": "stream",
     "text": [
      "Enter value 1=6\n",
      "Enter value 2=7\n",
      "Not Equal !!\n"
     ]
    }
   ],
   "source": [
    "#assigned value\n",
    "n=1\n",
    "a=int(input(\"Enter value 1=\"))\n",
    "b=int(input(\"Enter value 2=\"))\n",
    "for x in range(n):\n",
    "    if a==b:\n",
    "        print(\"Equal..\")\n",
    "    else:\n",
    "        print(\"Not Equal !!\")"
   ]
  },
  {
   "cell_type": "code",
   "execution_count": 1,
   "metadata": {},
   "outputs": [
    {
     "name": "stdout",
     "output_type": "stream",
     "text": [
      "Enter number:1\n",
      "Enter value1=6\n",
      "Enter value2=6\n",
      "Equal..\n"
     ]
    }
   ],
   "source": [
    "#assigned value\n",
    "n=int(input(\"Enter number:\"))\n",
    "a=int(input(\"Enter value1=\"))\n",
    "b=int(input(\"Enter value2=\"))\n",
    "for x in range(n):\n",
    "    if a==b:\n",
    "        print(\"Equal..\")\n",
    "    else:\n",
    "        print(\"Not Equal !!\")"
   ]
  },
  {
   "cell_type": "code",
   "execution_count": 2,
   "metadata": {},
   "outputs": [
    {
     "name": "stdout",
     "output_type": "stream",
     "text": [
      "Divisible..\n"
     ]
    }
   ],
   "source": [
    "#divisible check\n",
    "    #assigned value\n",
    "a=20\n",
    "b=2\n",
    "if a%b==0:\n",
    "    print(\"Divisible..\")\n",
    "else:\n",
    "    print(\"Not Divisible !!\")"
   ]
  },
  {
   "cell_type": "code",
   "execution_count": 1,
   "metadata": {},
   "outputs": [
    {
     "ename": "IndentationError",
     "evalue": "expected an indented block (<ipython-input-1-cc50525d85f7>, line 5)",
     "output_type": "error",
     "traceback": [
      "\u001b[1;36m  File \u001b[1;32m\"<ipython-input-1-cc50525d85f7>\"\u001b[1;36m, line \u001b[1;32m5\u001b[0m\n\u001b[1;33m    print(\"Divisible..\")\u001b[0m\n\u001b[1;37m        ^\u001b[0m\n\u001b[1;31mIndentationError\u001b[0m\u001b[1;31m:\u001b[0m expected an indented block\n"
     ]
    }
   ],
   "source": [
    "    #user defined\n",
    "a=int(input(\"Enter number1=\"))\n",
    "b=int(input(\"Enter number2=\"))\n",
    "if a%b==0:\n",
    "    print(\"Divisible..\")\n",
    "else:\n",
    "    print(\"Not divisible !!\")"
   ]
  },
  {
   "cell_type": "code",
   "execution_count": 4,
   "metadata": {},
   "outputs": [
    {
     "name": "stdout",
     "output_type": "stream",
     "text": [
      "Enter number1=20\n",
      "Enter number2=2\n",
      "Divisible..\n"
     ]
    }
   ],
   "source": [
    "#user defined\n",
    "a=int(input(\"Enter number1=\"))\n",
    "b=int(input(\"Enter number2=\"))\n",
    "if a%b==0:\n",
    "    print(\"Divisible..\")\n",
    "else:\n",
    "    print(\"Not divisible !!\")"
   ]
  },
  {
   "cell_type": "code",
   "execution_count": null,
   "metadata": {},
   "outputs": [],
   "source": [
    "#logic comparison\n",
    "    #user defined\n",
    "n=2\n",
    "for x in range(n):\n",
    "    a=int(input(\"Enter number=\"))\n",
    "    if a>25 or a<10:\n",
    "        print(\"Correct..\")\n",
    "    else:\n",
    "        print(\"Not correct !!\")"
   ]
  },
  {
   "cell_type": "code",
   "execution_count": null,
   "metadata": {},
   "outputs": [],
   "source": [
    "n=2\n",
    "for x in range(n):\n",
    "    a=int(input(\"Enter number=\"))\n",
    "    if a>25 or a<10:\n",
    "        print(\"Correct..\")\n",
    "    else:\n",
    "        print(\"Not correct !!\")"
   ]
  },
  {
   "cell_type": "code",
   "execution_count": 2,
   "metadata": {},
   "outputs": [
    {
     "name": "stdout",
     "output_type": "stream",
     "text": [
      "Enter city name:karad\n",
      "Welcome to karad\n",
      "Enter city name:sangli\n",
      "City not found !!\n"
     ]
    }
   ],
   "source": [
    "#city program \n",
    "city=[\"karad\",\"satara\",\"pune\",\"mumbai\"]\n",
    "for i in range(2):\n",
    "    a=input(\"Enter city name:\")\n",
    "    for x in city:\n",
    "        if x==a:\n",
    "            print(\"Welcome to\",a)\n",
    "else:\n",
    "    print(\"City not found !!\")"
   ]
  },
  {
   "cell_type": "code",
   "execution_count": 1,
   "metadata": {},
   "outputs": [
    {
     "name": "stdout",
     "output_type": "stream",
     "text": [
      "Enter girl name=Kajal\n",
      "Girl found.. Kajal\n",
      "Enter girl name=kajal\n",
      "Not found !!\n"
     ]
    }
   ],
   "source": [
    "#sunday assignment\n",
    "#girl\n",
    "girl=[\"Kajal\",\"Renu\",\"Nalini\"]\n",
    "for i in range(2):\n",
    "    n=input(\"Enter girl name=\")\n",
    "    for g in girl:\n",
    "        if n==g:\n",
    "            print(\"Girl found..\",n)\n",
    "else:\n",
    "    print(\"Not found !!\")"
   ]
  },
  {
   "cell_type": "code",
   "execution_count": null,
   "metadata": {},
   "outputs": [],
   "source": []
  }
 ],
 "metadata": {
  "kernelspec": {
   "display_name": "Python 3",
   "language": "python",
   "name": "python3"
  },
  "language_info": {
   "codemirror_mode": {
    "name": "ipython",
    "version": 3
   },
   "file_extension": ".py",
   "mimetype": "text/x-python",
   "name": "python",
   "nbconvert_exporter": "python",
   "pygments_lexer": "ipython3",
   "version": "3.7.11"
  }
 },
 "nbformat": 4,
 "nbformat_minor": 4
}
